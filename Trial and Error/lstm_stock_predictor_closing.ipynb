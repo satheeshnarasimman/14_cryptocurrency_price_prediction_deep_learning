{
 "cells": [
  {
   "cell_type": "markdown",
   "metadata": {},
   "source": [
    "# LSTM Stock Predictor Using Closing Prices\n",
    "\n",
    "In this notebook, you will build and train a custom LSTM RNN that uses a 10 day window of Bitcoin closing prices to predict the 11th day closing price. \n",
    "\n",
    "You will need to:\n",
    "\n",
    "1. Prepare the data for training and testing\n",
    "2. Build and train a custom LSTM RNN\n",
    "3. Evaluate the performance of the model"
   ]
  },
  {
   "cell_type": "markdown",
   "metadata": {},
   "source": [
    "## Data Preparation\n",
    "\n",
    "In this section, you will need to prepare the training and testing data for the model. The model will use a rolling 10 day window to predict the 11th day closing price.\n",
    "\n",
    "You will need to:\n",
    "1. Use the `window_data` function to generate the X and y values for the model.\n",
    "2. Split the data into 70% training and 30% testing\n",
    "3. Apply the MinMaxScaler to the X and y values\n",
    "4. Reshape the X_train and X_test data for the model. Note: The required input format for the LSTM is:\n",
    "\n",
    "```python\n",
    "reshape((X_train.shape[0], X_train.shape[1], 1))\n",
    "```"
   ]
  },
  {
   "cell_type": "code",
   "execution_count": 5,
   "metadata": {},
   "outputs": [],
   "source": [
    "import numpy as np\n",
    "import pandas as pd\n",
    "import hvplot.pandas"
   ]
  },
  {
   "cell_type": "code",
   "execution_count": 6,
   "metadata": {},
   "outputs": [],
   "source": [
    "# Set the random seed for reproducibility\n",
    "# Note: This is for the homework solution, but it is good practice to comment this out and run multiple experiments to evaluate your model\n",
    "from numpy.random import seed\n",
    "seed(1)\n",
    "\n",
    "from tensorflow import random\n",
    "random.set_seed(2)"
   ]
  },
  {
   "cell_type": "code",
   "execution_count": 7,
   "metadata": {},
   "outputs": [
    {
     "data": {
      "text/html": [
       "<div>\n",
       "<style scoped>\n",
       "    .dataframe tbody tr th:only-of-type {\n",
       "        vertical-align: middle;\n",
       "    }\n",
       "\n",
       "    .dataframe tbody tr th {\n",
       "        vertical-align: top;\n",
       "    }\n",
       "\n",
       "    .dataframe thead th {\n",
       "        text-align: right;\n",
       "    }\n",
       "</style>\n",
       "<table border=\"1\" class=\"dataframe\">\n",
       "  <thead>\n",
       "    <tr style=\"text-align: right;\">\n",
       "      <th></th>\n",
       "      <th>fng_value</th>\n",
       "    </tr>\n",
       "    <tr>\n",
       "      <th>date</th>\n",
       "      <th></th>\n",
       "    </tr>\n",
       "  </thead>\n",
       "  <tbody>\n",
       "    <tr>\n",
       "      <th>2019-07-29</th>\n",
       "      <td>19</td>\n",
       "    </tr>\n",
       "    <tr>\n",
       "      <th>2019-07-28</th>\n",
       "      <td>16</td>\n",
       "    </tr>\n",
       "    <tr>\n",
       "      <th>2019-07-27</th>\n",
       "      <td>47</td>\n",
       "    </tr>\n",
       "    <tr>\n",
       "      <th>2019-07-26</th>\n",
       "      <td>24</td>\n",
       "    </tr>\n",
       "    <tr>\n",
       "      <th>2019-07-25</th>\n",
       "      <td>42</td>\n",
       "    </tr>\n",
       "  </tbody>\n",
       "</table>\n",
       "</div>"
      ],
      "text/plain": [
       "             fng_value\n",
       "date                  \n",
       "2019-07-29          19\n",
       "2019-07-28          16\n",
       "2019-07-27          47\n",
       "2019-07-26          24\n",
       "2019-07-25          42"
      ]
     },
     "execution_count": 7,
     "metadata": {},
     "output_type": "execute_result"
    }
   ],
   "source": [
    "# Load the fear and greed sentiment data for Bitcoin\n",
    "df = pd.read_csv('btc_sentiment.csv', index_col=\"date\", infer_datetime_format=True, parse_dates=True)\n",
    "df = df.drop(columns=\"fng_classification\")\n",
    "df.head()"
   ]
  },
  {
   "cell_type": "code",
   "execution_count": 8,
   "metadata": {},
   "outputs": [
    {
     "data": {
      "text/plain": [
       "Date\n",
       "2018-01-02    14754.129883\n",
       "2018-01-03    15156.620117\n",
       "2018-01-04    15180.080078\n",
       "2018-01-05    16954.779297\n",
       "2018-01-06    17172.300781\n",
       "Name: Close, dtype: float64"
      ]
     },
     "execution_count": 8,
     "metadata": {},
     "output_type": "execute_result"
    }
   ],
   "source": [
    "# Load the historical closing prices for Bitcoin\n",
    "df2 = pd.read_csv('btc_historic.csv', index_col=\"Date\", infer_datetime_format=True, parse_dates=True)['Close']\n",
    "df2 = df2.sort_index()\n",
    "df2.head()"
   ]
  },
  {
   "cell_type": "code",
   "execution_count": 9,
   "metadata": {},
   "outputs": [
    {
     "data": {
      "text/html": [
       "<div>\n",
       "<style scoped>\n",
       "    .dataframe tbody tr th:only-of-type {\n",
       "        vertical-align: middle;\n",
       "    }\n",
       "\n",
       "    .dataframe tbody tr th {\n",
       "        vertical-align: top;\n",
       "    }\n",
       "\n",
       "    .dataframe thead th {\n",
       "        text-align: right;\n",
       "    }\n",
       "</style>\n",
       "<table border=\"1\" class=\"dataframe\">\n",
       "  <thead>\n",
       "    <tr style=\"text-align: right;\">\n",
       "      <th></th>\n",
       "      <th>fng_value</th>\n",
       "      <th>Close</th>\n",
       "    </tr>\n",
       "  </thead>\n",
       "  <tbody>\n",
       "    <tr>\n",
       "      <th>2019-07-25</th>\n",
       "      <td>42</td>\n",
       "      <td>9882.429688</td>\n",
       "    </tr>\n",
       "    <tr>\n",
       "      <th>2019-07-26</th>\n",
       "      <td>24</td>\n",
       "      <td>9847.450195</td>\n",
       "    </tr>\n",
       "    <tr>\n",
       "      <th>2019-07-27</th>\n",
       "      <td>47</td>\n",
       "      <td>9478.320313</td>\n",
       "    </tr>\n",
       "    <tr>\n",
       "      <th>2019-07-28</th>\n",
       "      <td>16</td>\n",
       "      <td>9531.769531</td>\n",
       "    </tr>\n",
       "    <tr>\n",
       "      <th>2019-07-29</th>\n",
       "      <td>19</td>\n",
       "      <td>9529.889648</td>\n",
       "    </tr>\n",
       "  </tbody>\n",
       "</table>\n",
       "</div>"
      ],
      "text/plain": [
       "             fng_value        Close\n",
       "2019-07-25          42  9882.429688\n",
       "2019-07-26          24  9847.450195\n",
       "2019-07-27          47  9478.320313\n",
       "2019-07-28          16  9531.769531\n",
       "2019-07-29          19  9529.889648"
      ]
     },
     "execution_count": 9,
     "metadata": {},
     "output_type": "execute_result"
    }
   ],
   "source": [
    "# Join the data into a single DataFrame\n",
    "df = df.join(df2, how=\"inner\")\n",
    "df.tail()"
   ]
  },
  {
   "cell_type": "code",
   "execution_count": 10,
   "metadata": {},
   "outputs": [
    {
     "data": {
      "text/html": [
       "<div>\n",
       "<style scoped>\n",
       "    .dataframe tbody tr th:only-of-type {\n",
       "        vertical-align: middle;\n",
       "    }\n",
       "\n",
       "    .dataframe tbody tr th {\n",
       "        vertical-align: top;\n",
       "    }\n",
       "\n",
       "    .dataframe thead th {\n",
       "        text-align: right;\n",
       "    }\n",
       "</style>\n",
       "<table border=\"1\" class=\"dataframe\">\n",
       "  <thead>\n",
       "    <tr style=\"text-align: right;\">\n",
       "      <th></th>\n",
       "      <th>fng_value</th>\n",
       "      <th>Close</th>\n",
       "    </tr>\n",
       "  </thead>\n",
       "  <tbody>\n",
       "    <tr>\n",
       "      <th>2019-07-25</th>\n",
       "      <td>42</td>\n",
       "      <td>9882.4</td>\n",
       "    </tr>\n",
       "    <tr>\n",
       "      <th>2019-07-26</th>\n",
       "      <td>24</td>\n",
       "      <td>9847.5</td>\n",
       "    </tr>\n",
       "    <tr>\n",
       "      <th>2019-07-27</th>\n",
       "      <td>47</td>\n",
       "      <td>9478.3</td>\n",
       "    </tr>\n",
       "    <tr>\n",
       "      <th>2019-07-28</th>\n",
       "      <td>16</td>\n",
       "      <td>9531.8</td>\n",
       "    </tr>\n",
       "    <tr>\n",
       "      <th>2019-07-29</th>\n",
       "      <td>19</td>\n",
       "      <td>9529.9</td>\n",
       "    </tr>\n",
       "  </tbody>\n",
       "</table>\n",
       "</div>"
      ],
      "text/plain": [
       "             fng_value   Close\n",
       "2019-07-25          42  9882.4\n",
       "2019-07-26          24  9847.5\n",
       "2019-07-27          47  9478.3\n",
       "2019-07-28          16  9531.8\n",
       "2019-07-29          19  9529.9"
      ]
     },
     "execution_count": 10,
     "metadata": {},
     "output_type": "execute_result"
    }
   ],
   "source": [
    "df['Close']= round(df['Close'], 1)\n",
    "df.tail()"
   ]
  },
  {
   "cell_type": "code",
   "execution_count": 11,
   "metadata": {},
   "outputs": [
    {
     "data": {
      "text/plain": [
       " fng_value    0\n",
       "Close         0\n",
       "dtype: int64"
      ]
     },
     "execution_count": 11,
     "metadata": {},
     "output_type": "execute_result"
    }
   ],
   "source": [
    "df.isnull().sum()"
   ]
  },
  {
   "cell_type": "code",
   "execution_count": 12,
   "metadata": {},
   "outputs": [],
   "source": [
    "def window_data(df, window, feature_col_number, target_col_number):\n",
    "    \"\"\"\n",
    "    This function accepts the column number for the features (X) and the target (y).\n",
    "    It chunks the data up with a rolling window of Xt - window to predict Xt.\n",
    "    It returns two numpy arrays of X and y.\n",
    "    \"\"\"\n",
    "    X = []\n",
    "    y = []\n",
    "    \n",
    "    for rows in range(len(df) - window - 1):\n",
    "        features = df.iloc[rows:(rows + window), feature_col_number]\n",
    "        target = df.iloc[(rows + window), target_col_number]\n",
    "        \n",
    "        X.append(features)\n",
    "        y.append(target)\n",
    "    \n",
    "    return np.array(X), np.array(y).reshape(-1, 1)"
   ]
  },
  {
   "cell_type": "code",
   "execution_count": 13,
   "metadata": {},
   "outputs": [],
   "source": [
    "# Predict Closing Prices using a 10 day window of previous closing prices\n",
    "# Then, experiment with window sizes anywhere from 1 to 10 and see how the model performance changes\n",
    "window= 10\n",
    "\n",
    "# Column index 0 is the 'fng_value' column\n",
    "# Column index 1 is the `Close` column\n",
    "feature_col_number = 1\n",
    "target_col_number = 1\n",
    "\n",
    "X, y = window_data(df, window, feature_col_number, target_col_number)"
   ]
  },
  {
   "cell_type": "code",
   "execution_count": 14,
   "metadata": {},
   "outputs": [
    {
     "name": "stdout",
     "output_type": "stream",
     "text": [
      "X sample values:\n",
      "[[9114.7 8870.8 9251.3 8218.  6937.1 7701.2 7592.7 8260.7 8696.8 8569.3]\n",
      " [8870.8 9251.3 8218.  6937.1 7701.2 7592.7 8260.7 8696.8 8569.3 8084.6]\n",
      " [9251.3 8218.  6937.1 7701.2 7592.7 8260.7 8696.8 8569.3 8084.6 8911.3]\n",
      " [8218.  6937.1 7701.2 7592.7 8260.7 8696.8 8569.3 8084.6 8911.3 8544.7]\n",
      " [6937.1 7701.2 7592.7 8260.7 8696.8 8569.3 8084.6 8911.3 8544.7 9485.6]] \n",
      "\n",
      "y sample values:\n",
      "[[ 8084.6]\n",
      " [ 8911.3]\n",
      " [ 8544.7]\n",
      " [ 9485.6]\n",
      " [10033.8]]\n"
     ]
    }
   ],
   "source": [
    "print (f\"X sample values:\\n{X[:5]} \\n\")\n",
    "print (f\"y sample values:\\n{y[:5]}\")"
   ]
  },
  {
   "cell_type": "code",
   "execution_count": 15,
   "metadata": {},
   "outputs": [
    {
     "name": "stdout",
     "output_type": "stream",
     "text": [
      "532\n"
     ]
    }
   ],
   "source": [
    "print (len (X))"
   ]
  },
  {
   "cell_type": "code",
   "execution_count": 16,
   "metadata": {},
   "outputs": [],
   "source": [
    "# Use 70% of the data for training and the remainder for testing\n",
    "split= int (0.7* len(X))\n",
    "\n",
    "X_train= X[: split]\n",
    "X_test= X[split: ]\n",
    "\n",
    "y_train= y[: split]\n",
    "y_test= y[split: ]"
   ]
  },
  {
   "cell_type": "code",
   "execution_count": 17,
   "metadata": {},
   "outputs": [],
   "source": [
    "from sklearn.preprocessing import MinMaxScaler\n",
    "\n",
    "# Use the MinMaxScaler to scale data between 0 and 1.\n",
    "scaler= MinMaxScaler()\n",
    "\n",
    "scaler.fit(X)\n",
    "X_train_scaled= scaler.transform(X_train)\n",
    "X_test_scaled= scaler.transform(X_test)\n",
    "\n",
    "scaler.fit(y)\n",
    "y_train_scaled= scaler.transform(y_train)\n",
    "y_test_scaled= scaler.transform(y_test)"
   ]
  },
  {
   "cell_type": "code",
   "execution_count": 18,
   "metadata": {},
   "outputs": [
    {
     "name": "stdout",
     "output_type": "stream",
     "text": [
      "X_train_scaled sample values:\n",
      " [[0.60761507 0.58242087 0.62172548 0.51498843 0.38267499 0.46160441\n",
      "  0.45039666 0.51939922 0.56444715 0.55127675]\n",
      " [0.58242087 0.62172548 0.51498843 0.38267499 0.46160441 0.45039666\n",
      "  0.51939922 0.56444715 0.55127675 0.50120858]]\n",
      "\n",
      "y_train_scaled sample values:\n",
      " [[0.50120858]\n",
      " [0.58660441]]\n"
     ]
    }
   ],
   "source": [
    "print (f\"X_train_scaled sample values:\\n {X_train_scaled[:2]}\\n\")\n",
    "print (f\"y_train_scaled sample values:\\n {y_train_scaled[:2]}\")"
   ]
  },
  {
   "cell_type": "code",
   "execution_count": 19,
   "metadata": {},
   "outputs": [
    {
     "name": "stdout",
     "output_type": "stream",
     "text": [
      "X_train_scaled shape: (372, 10)\n",
      "X_test_scaled shape: (160, 10)\n",
      "y_train_scaled shape: (372, 1)\n",
      "y_test_scaled shape: (160, 1)\n"
     ]
    }
   ],
   "source": [
    "print (f\"X_train_scaled shape: {X_train_scaled.shape}\")\n",
    "print (f\"X_test_scaled shape: {X_test_scaled.shape}\")\n",
    "print (f\"y_train_scaled shape: {y_train_scaled.shape}\")\n",
    "print (f\"y_test_scaled shape: {y_test_scaled.shape}\")"
   ]
  },
  {
   "cell_type": "code",
   "execution_count": 20,
   "metadata": {},
   "outputs": [],
   "source": [
    "# Reshape the features for the model\n",
    "X_train_reshaped= X_train_scaled.reshape((X_train_scaled.shape[0], X_train_scaled.shape[1], 1))\n",
    "\n",
    "X_test_reshaped= X_test_scaled.reshape((X_test_scaled.shape[0], X_test_scaled.shape[1], 1))"
   ]
  },
  {
   "cell_type": "code",
   "execution_count": 21,
   "metadata": {},
   "outputs": [
    {
     "name": "stdout",
     "output_type": "stream",
     "text": [
      "X_train_reshaped sample values:\n",
      "[[[0.60761507]\n",
      "  [0.58242087]\n",
      "  [0.62172548]\n",
      "  [0.51498843]\n",
      "  [0.38267499]\n",
      "  [0.46160441]\n",
      "  [0.45039666]\n",
      "  [0.51939922]\n",
      "  [0.56444715]\n",
      "  [0.55127675]]] \n",
      "\n",
      "X_test_reshaped sample values:\n",
      "[[[0.04675233]\n",
      "  [0.039129  ]\n",
      "  [0.03975911]\n",
      "  [0.03857119]\n",
      "  [0.03679448]\n",
      "  [0.03729031]\n",
      "  [0.03973845]\n",
      "  [0.04528551]\n",
      "  [0.04528551]\n",
      "  [0.07025246]]]\n"
     ]
    }
   ],
   "source": [
    "print (f\"X_train_reshaped sample values:\\n{X_train_reshaped[:1]} \\n\")\n",
    "print (f\"X_test_reshaped sample values:\\n{X_test_reshaped[:1]}\")"
   ]
  },
  {
   "cell_type": "code",
   "execution_count": 22,
   "metadata": {},
   "outputs": [
    {
     "name": "stdout",
     "output_type": "stream",
     "text": [
      "X_train_reshaped shape: (372, 10, 1)\n",
      "X_test_reshaped shape: (160, 10, 1)\n"
     ]
    }
   ],
   "source": [
    "print (f\"X_train_reshaped shape: {X_train_reshaped.shape}\")\n",
    "print (f\"X_test_reshaped shape: {X_test_reshaped.shape}\")"
   ]
  },
  {
   "cell_type": "markdown",
   "metadata": {},
   "source": [
    "---"
   ]
  },
  {
   "cell_type": "markdown",
   "metadata": {},
   "source": [
    "## Build and Train the LSTM RNN\n",
    "\n",
    "In this section, you will design a custom LSTM RNN and fit (train) it using the training data.\n",
    "\n",
    "You will need to:\n",
    "1. Define the model architecture\n",
    "2. Compile the model\n",
    "3. Fit the model to the training data\n",
    "\n",
    "### Hints:\n",
    "You will want to use the same model architecture and random seed for both notebooks. This is necessary to accurately compare the performance of the FNG model vs the closing price model. "
   ]
  },
  {
   "cell_type": "code",
   "execution_count": 23,
   "metadata": {},
   "outputs": [],
   "source": [
    "from tensorflow.keras.models import Sequential\n",
    "from tensorflow.keras.layers import LSTM, Dense, Dropout"
   ]
  },
  {
   "cell_type": "markdown",
   "metadata": {},
   "source": [
    "### Defining the LSTM RNN Model Structure\n",
    "- The return sequences need to be set to True if you are adding additional LSTM layers, but you don't have to do this for the final layer. \n",
    "- The dropouts help prevent overfitting\n",
    "- The input shape is the number of time steps and the number of indicators\n",
    "- Batching inputs has a different input shape of Samples/TimeSteps/Features"
   ]
  },
  {
   "cell_type": "code",
   "execution_count": 36,
   "metadata": {},
   "outputs": [],
   "source": [
    "# Define the LSTM RNN model.\n",
    "model= Sequential()\n",
    "\n",
    "number_units= 30\n",
    "dropout_fraction= 0.2\n",
    "\n",
    "# Layer 1\n",
    "model.add (LSTM (units= number_units, return_sequences= True, input_shape= (X_train_reshaped.shape[1], 1)))\n",
    "model.add (Dropout (dropout_fraction))\n",
    "\n",
    "# Layer 2\n",
    "model.add (LSTM (units= number_units, return_sequences= True))\n",
    "model.add (Dropout (dropout_fraction))\n",
    "\n",
    "# Layer 3\n",
    "model.add (LSTM (units= number_units))\n",
    "model.add (Dropout (dropout_fraction))\n",
    "\n",
    "# Output layer\n",
    "model.add (Dense (units= 1))"
   ]
  },
  {
   "cell_type": "code",
   "execution_count": 37,
   "metadata": {},
   "outputs": [],
   "source": [
    "# Compile the model\n",
    "model.compile (loss= 'mean_squared_error', optimizer= 'adam')"
   ]
  },
  {
   "cell_type": "code",
   "execution_count": 38,
   "metadata": {},
   "outputs": [
    {
     "name": "stdout",
     "output_type": "stream",
     "text": [
      "Model: \"sequential_1\"\n",
      "_________________________________________________________________\n",
      "Layer (type)                 Output Shape              Param #   \n",
      "=================================================================\n",
      "lstm_3 (LSTM)                (None, 10, 30)            3840      \n",
      "_________________________________________________________________\n",
      "dropout_3 (Dropout)          (None, 10, 30)            0         \n",
      "_________________________________________________________________\n",
      "lstm_4 (LSTM)                (None, 10, 30)            7320      \n",
      "_________________________________________________________________\n",
      "dropout_4 (Dropout)          (None, 10, 30)            0         \n",
      "_________________________________________________________________\n",
      "lstm_5 (LSTM)                (None, 30)                7320      \n",
      "_________________________________________________________________\n",
      "dropout_5 (Dropout)          (None, 30)                0         \n",
      "_________________________________________________________________\n",
      "dense_1 (Dense)              (None, 1)                 31        \n",
      "=================================================================\n",
      "Total params: 18,511\n",
      "Trainable params: 18,511\n",
      "Non-trainable params: 0\n",
      "_________________________________________________________________\n"
     ]
    }
   ],
   "source": [
    "# Summarize the model\n",
    "model.summary()"
   ]
  },
  {
   "cell_type": "code",
   "execution_count": 47,
   "metadata": {},
   "outputs": [
    {
     "name": "stdout",
     "output_type": "stream",
     "text": [
      "Epoch 1/20\n",
      "19/19 [==============================] - 0s 15ms/step - loss: 0.0066\n",
      "Epoch 2/20\n",
      "19/19 [==============================] - 0s 13ms/step - loss: 0.0058\n",
      "Epoch 3/20\n",
      "19/19 [==============================] - 0s 15ms/step - loss: 0.0054\n",
      "Epoch 4/20\n",
      "19/19 [==============================] - 0s 15ms/step - loss: 0.0057\n",
      "Epoch 5/20\n",
      "19/19 [==============================] - 0s 14ms/step - loss: 0.0053\n",
      "Epoch 6/20\n",
      "19/19 [==============================] - 0s 15ms/step - loss: 0.0055\n",
      "Epoch 7/20\n",
      "19/19 [==============================] - 0s 15ms/step - loss: 0.0052\n",
      "Epoch 8/20\n",
      "19/19 [==============================] - 0s 14ms/step - loss: 0.0061\n",
      "Epoch 9/20\n",
      "19/19 [==============================] - 0s 14ms/step - loss: 0.0060\n",
      "Epoch 10/20\n",
      "19/19 [==============================] - 0s 15ms/step - loss: 0.0055\n",
      "Epoch 11/20\n",
      "19/19 [==============================] - 0s 14ms/step - loss: 0.0054\n",
      "Epoch 12/20\n",
      "19/19 [==============================] - 0s 15ms/step - loss: 0.0047\n",
      "Epoch 13/20\n",
      "19/19 [==============================] - 0s 14ms/step - loss: 0.0056\n",
      "Epoch 14/20\n",
      "19/19 [==============================] - 0s 14ms/step - loss: 0.0061\n",
      "Epoch 15/20\n",
      "19/19 [==============================] - 0s 14ms/step - loss: 0.0048\n",
      "Epoch 16/20\n",
      "19/19 [==============================] - 0s 13ms/step - loss: 0.0047\n",
      "Epoch 17/20\n",
      "19/19 [==============================] - 0s 14ms/step - loss: 0.0057\n",
      "Epoch 18/20\n",
      "19/19 [==============================] - 0s 13ms/step - loss: 0.0056\n",
      "Epoch 19/20\n",
      "19/19 [==============================] - 0s 13ms/step - loss: 0.0052\n",
      "Epoch 20/20\n",
      "19/19 [==============================] - 0s 14ms/step - loss: 0.0045\n"
     ]
    },
    {
     "data": {
      "text/plain": [
       "<tensorflow.python.keras.callbacks.History at 0x1dec4e1b908>"
      ]
     },
     "execution_count": 47,
     "metadata": {},
     "output_type": "execute_result"
    }
   ],
   "source": [
    "# Train the model\n",
    "# Use at least 10 epochs, Do not shuffle the data\n",
    "# Experiement with smaller batch size\n",
    "\n",
    "model.fit (X_train_reshaped, y_train_scaled, epochs= 20, batch_size= 20, shuffle= False)"
   ]
  },
  {
   "cell_type": "code",
   "execution_count": 48,
   "metadata": {},
   "outputs": [],
   "source": [
    "# epocs = [1, 5, 10, 15]\n",
    "# batch_size = [1, 5, 10, 15]\n",
    "# module_res = []\n",
    "# for x in epocs:\n",
    "#     for y in batch_size:\n",
    "#         model.fit (X_train_reshaped, y_train_scaled, epochs= x, batch_size= y, shuffle= False)\n",
    "#         module_res.append({\n",
    "#             \"epochs\": x,\n",
    "#             \"batch_size\": y,\n",
    "#             \"score\": score,\n",
    "#             \"rmse\": rmse,\n",
    "#         })"
   ]
  },
  {
   "cell_type": "markdown",
   "metadata": {},
   "source": [
    "---"
   ]
  },
  {
   "cell_type": "markdown",
   "metadata": {},
   "source": [
    "## Model Performance\n",
    "\n",
    "In this section, you will evaluate the model using the test data. \n",
    "\n",
    "You will need to:\n",
    "1. Evaluate the model using the `X_test` and `y_test` data.\n",
    "2. Use the X_test data to make predictions\n",
    "3. Create a DataFrame of Real (y_test) vs predicted values. \n",
    "4. Plot the Real vs predicted values as a line chart\n",
    "\n",
    "### Hints\n",
    "Remember to apply the `inverse_transform` function to the predicted and y_test values to recover the actual closing prices."
   ]
  },
  {
   "cell_type": "code",
   "execution_count": 49,
   "metadata": {},
   "outputs": [
    {
     "name": "stdout",
     "output_type": "stream",
     "text": [
      "5/5 [==============================] - 0s 4ms/step - loss: 0.0078\n"
     ]
    },
    {
     "data": {
      "text/plain": [
       "0.007794261910021305"
      ]
     },
     "execution_count": 49,
     "metadata": {},
     "output_type": "execute_result"
    }
   ],
   "source": [
    "# Evaluate the model\n",
    "model.evaluate (X_test_reshaped, y_test_scaled)"
   ]
  },
  {
   "cell_type": "code",
   "execution_count": 50,
   "metadata": {},
   "outputs": [
    {
     "data": {
      "text/plain": [
       "array([[0.04006409],\n",
       "       [0.04250174],\n",
       "       [0.04637377],\n",
       "       [0.05083588],\n",
       "       [0.05554644]], dtype=float32)"
      ]
     },
     "execution_count": 50,
     "metadata": {},
     "output_type": "execute_result"
    }
   ],
   "source": [
    "# Make some predictions\n",
    "predicted= model.predict (X_test_reshaped)\n",
    "predicted[:5]"
   ]
  },
  {
   "cell_type": "code",
   "execution_count": 51,
   "metadata": {},
   "outputs": [],
   "source": [
    "# Recover the original prices instead of the scaled version\n",
    "predicted_prices = scaler.inverse_transform(predicted)\n",
    "real_prices = scaler.inverse_transform(y_test_scaled.reshape(-1, 1))"
   ]
  },
  {
   "cell_type": "code",
   "execution_count": 52,
   "metadata": {},
   "outputs": [
    {
     "data": {
      "text/html": [
       "<div>\n",
       "<style scoped>\n",
       "    .dataframe tbody tr th:only-of-type {\n",
       "        vertical-align: middle;\n",
       "    }\n",
       "\n",
       "    .dataframe tbody tr th {\n",
       "        vertical-align: top;\n",
       "    }\n",
       "\n",
       "    .dataframe thead th {\n",
       "        text-align: right;\n",
       "    }\n",
       "</style>\n",
       "<table border=\"1\" class=\"dataframe\">\n",
       "  <thead>\n",
       "    <tr style=\"text-align: right;\">\n",
       "      <th></th>\n",
       "      <th>Real</th>\n",
       "      <th>Predicted</th>\n",
       "    </tr>\n",
       "  </thead>\n",
       "  <tbody>\n",
       "    <tr>\n",
       "      <th>2019-07-25</th>\n",
       "      <td>9772.1</td>\n",
       "      <td>9614.197266</td>\n",
       "    </tr>\n",
       "    <tr>\n",
       "      <th>2019-07-26</th>\n",
       "      <td>9882.4</td>\n",
       "      <td>9582.246094</td>\n",
       "    </tr>\n",
       "    <tr>\n",
       "      <th>2019-07-27</th>\n",
       "      <td>9847.5</td>\n",
       "      <td>9523.398438</td>\n",
       "    </tr>\n",
       "    <tr>\n",
       "      <th>2019-07-28</th>\n",
       "      <td>9478.3</td>\n",
       "      <td>9450.321289</td>\n",
       "    </tr>\n",
       "    <tr>\n",
       "      <th>2019-07-29</th>\n",
       "      <td>9531.8</td>\n",
       "      <td>9348.173828</td>\n",
       "    </tr>\n",
       "  </tbody>\n",
       "</table>\n",
       "</div>"
      ],
      "text/plain": [
       "              Real    Predicted\n",
       "2019-07-25  9772.1  9614.197266\n",
       "2019-07-26  9882.4  9582.246094\n",
       "2019-07-27  9847.5  9523.398438\n",
       "2019-07-28  9478.3  9450.321289\n",
       "2019-07-29  9531.8  9348.173828"
      ]
     },
     "execution_count": 52,
     "metadata": {},
     "output_type": "execute_result"
    }
   ],
   "source": [
    "# Create a DataFrame of Real and Predicted values\n",
    "real_predicted = pd.DataFrame(\n",
    "    {\n",
    "    \"Real\": real_prices.ravel(),\n",
    "    \"Predicted\": predicted_prices.ravel()\n",
    "    }, \n",
    "    index = df.index[-len(real_prices): ]\n",
    ") \n",
    "\n",
    "real_predicted.tail()"
   ]
  },
  {
   "cell_type": "code",
   "execution_count": 53,
   "metadata": {},
   "outputs": [
    {
     "data": {
      "text/plain": [
       "(160, 2)"
      ]
     },
     "execution_count": 53,
     "metadata": {},
     "output_type": "execute_result"
    }
   ],
   "source": [
    "real_predicted.shape"
   ]
  },
  {
   "cell_type": "code",
   "execution_count": 54,
   "metadata": {},
   "outputs": [
    {
     "data": {
      "application/vnd.holoviews_exec.v0+json": "",
      "text/html": [
       "<div id='2234'>\n",
       "\n",
       "\n",
       "\n",
       "\n",
       "\n",
       "  <div class=\"bk-root\" id=\"b029bdb4-c677-4ec1-b2cc-5607e900da90\" data-root-id=\"2234\"></div>\n",
       "</div>\n",
       "<script type=\"application/javascript\">(function(root) {\n",
       "  function embed_document(root) {\n",
       "  var docs_json = {\"d48e901f-b315-4ef0-861c-bcea7a2f1735\":{\"roots\":{\"references\":[{\"attributes\":{\"margin\":[5,5,5,5],\"name\":\"HSpacer02882\",\"sizing_mode\":\"stretch_width\"},\"id\":\"2235\",\"type\":\"Spacer\"},{\"attributes\":{\"end\":1564358400000.0,\"reset_end\":1564358400000.0,\"reset_start\":1550620800000.0,\"start\":1550620800000.0,\"tags\":[[[\"index\",\"index\",null]]]},\"id\":\"2236\",\"type\":\"Range1d\"},{\"attributes\":{\"source\":{\"id\":\"2304\"}},\"id\":\"2311\",\"type\":\"CDSView\"},{\"attributes\":{},\"id\":\"2289\",\"type\":\"UnionRenderers\"},{\"attributes\":{},\"id\":\"2270\",\"type\":\"DatetimeTickFormatter\"},{\"attributes\":{\"days\":[1,15]},\"id\":\"2296\",\"type\":\"DaysTicker\"},{\"attributes\":{\"months\":[0,4,8]},\"id\":\"2299\",\"type\":\"MonthsTicker\"},{\"attributes\":{},\"id\":\"2272\",\"type\":\"BasicTickFormatter\"},{\"attributes\":{},\"id\":\"2258\",\"type\":\"PanTool\"},{\"attributes\":{\"line_alpha\":0.1,\"line_color\":\"#ff7e0e\",\"line_width\":2,\"x\":{\"field\":\"index\"},\"y\":{\"field\":\"value\"}},\"id\":\"2308\",\"type\":\"Line\"},{\"attributes\":{},\"id\":\"2321\",\"type\":\"UnionRenderers\"},{\"attributes\":{\"days\":[1,2,3,4,5,6,7,8,9,10,11,12,13,14,15,16,17,18,19,20,21,22,23,24,25,26,27,28,29,30,31]},\"id\":\"2293\",\"type\":\"DaysTicker\"},{\"attributes\":{\"line_color\":\"#ff7e0e\",\"line_width\":2,\"x\":{\"field\":\"index\"},\"y\":{\"field\":\"value\"}},\"id\":\"2307\",\"type\":\"Line\"},{\"attributes\":{\"mantissas\":[1,2,5],\"max_interval\":500.0,\"num_minor_ticks\":0},\"id\":\"2290\",\"type\":\"AdaptiveTicker\"},{\"attributes\":{},\"id\":\"2257\",\"type\":\"SaveTool\"},{\"attributes\":{\"label\":{\"value\":\"Real\"},\"renderers\":[{\"id\":\"2280\"}]},\"id\":\"2303\",\"type\":\"LegendItem\"},{\"attributes\":{\"align\":null,\"below\":[{\"id\":\"2249\"}],\"center\":[{\"id\":\"2252\"},{\"id\":\"2256\"}],\"left\":[{\"id\":\"2253\"}],\"margin\":null,\"min_border_bottom\":10,\"min_border_left\":10,\"min_border_right\":10,\"min_border_top\":10,\"plot_height\":300,\"plot_width\":700,\"renderers\":[{\"id\":\"2280\"},{\"id\":\"2310\"}],\"right\":[{\"id\":\"2302\"}],\"sizing_mode\":\"fixed\",\"title\":{\"id\":\"2241\"},\"toolbar\":{\"id\":\"2263\"},\"x_range\":{\"id\":\"2236\"},\"x_scale\":{\"id\":\"2245\"},\"y_range\":{\"id\":\"2237\"},\"y_scale\":{\"id\":\"2247\"}},\"id\":\"2240\",\"subtype\":\"Figure\",\"type\":\"Plot\"},{\"attributes\":{},\"id\":\"2259\",\"type\":\"WheelZoomTool\"},{\"attributes\":{\"data_source\":{\"id\":\"2274\"},\"glyph\":{\"id\":\"2277\"},\"hover_glyph\":null,\"muted_glyph\":{\"id\":\"2279\"},\"nonselection_glyph\":{\"id\":\"2278\"},\"selection_glyph\":null,\"view\":{\"id\":\"2281\"}},\"id\":\"2280\",\"type\":\"GlyphRenderer\"},{\"attributes\":{\"overlay\":{\"id\":\"2262\"}},\"id\":\"2260\",\"type\":\"BoxZoomTool\"},{\"attributes\":{},\"id\":\"2254\",\"type\":\"BasicTicker\"},{\"attributes\":{\"base\":60,\"mantissas\":[1,2,5,10,15,20,30],\"max_interval\":1800000.0,\"min_interval\":1000.0,\"num_minor_ticks\":0},\"id\":\"2291\",\"type\":\"AdaptiveTicker\"},{\"attributes\":{\"axis\":{\"id\":\"2253\"},\"dimension\":1,\"grid_line_color\":null,\"ticker\":null},\"id\":\"2256\",\"type\":\"Grid\"},{\"attributes\":{},\"id\":\"2275\",\"type\":\"Selection\"},{\"attributes\":{\"data\":{\"Variable\":[\"Predicted\",\"Predicted\",\"Predicted\",\"Predicted\",\"Predicted\",\"Predicted\",\"Predicted\",\"Predicted\",\"Predicted\",\"Predicted\",\"Predicted\",\"Predicted\",\"Predicted\",\"Predicted\",\"Predicted\",\"Predicted\",\"Predicted\",\"Predicted\",\"Predicted\",\"Predicted\",\"Predicted\",\"Predicted\",\"Predicted\",\"Predicted\",\"Predicted\",\"Predicted\",\"Predicted\",\"Predicted\",\"Predicted\",\"Predicted\",\"Predicted\",\"Predicted\",\"Predicted\",\"Predicted\",\"Predicted\",\"Predicted\",\"Predicted\",\"Predicted\",\"Predicted\",\"Predicted\",\"Predicted\",\"Predicted\",\"Predicted\",\"Predicted\",\"Predicted\",\"Predicted\",\"Predicted\",\"Predicted\",\"Predicted\",\"Predicted\",\"Predicted\",\"Predicted\",\"Predicted\",\"Predicted\",\"Predicted\",\"Predicted\",\"Predicted\",\"Predicted\",\"Predicted\",\"Predicted\",\"Predicted\",\"Predicted\",\"Predicted\",\"Predicted\",\"Predicted\",\"Predicted\",\"Predicted\",\"Predicted\",\"Predicted\",\"Predicted\",\"Predicted\",\"Predicted\",\"Predicted\",\"Predicted\",\"Predicted\",\"Predicted\",\"Predicted\",\"Predicted\",\"Predicted\",\"Predicted\",\"Predicted\",\"Predicted\",\"Predicted\",\"Predicted\",\"Predicted\",\"Predicted\",\"Predicted\",\"Predicted\",\"Predicted\",\"Predicted\",\"Predicted\",\"Predicted\",\"Predicted\",\"Predicted\",\"Predicted\",\"Predicted\",\"Predicted\",\"Predicted\",\"Predicted\",\"Predicted\",\"Predicted\",\"Predicted\",\"Predicted\",\"Predicted\",\"Predicted\",\"Predicted\",\"Predicted\",\"Predicted\",\"Predicted\",\"Predicted\",\"Predicted\",\"Predicted\",\"Predicted\",\"Predicted\",\"Predicted\",\"Predicted\",\"Predicted\",\"Predicted\",\"Predicted\",\"Predicted\",\"Predicted\",\"Predicted\",\"Predicted\",\"Predicted\",\"Predicted\",\"Predicted\",\"Predicted\",\"Predicted\",\"Predicted\",\"Predicted\",\"Predicted\",\"Predicted\",\"Predicted\",\"Predicted\",\"Predicted\",\"Predicted\",\"Predicted\",\"Predicted\",\"Predicted\",\"Predicted\",\"Predicted\",\"Predicted\",\"Predicted\",\"Predicted\",\"Predicted\",\"Predicted\",\"Predicted\",\"Predicted\",\"Predicted\",\"Predicted\",\"Predicted\",\"Predicted\",\"Predicted\",\"Predicted\",\"Predicted\",\"Predicted\",\"Predicted\",\"Predicted\",\"Predicted\",\"Predicted\"],\"index\":{\"__ndarray__\":\"AABAO4OQdkIAAACh1ZB2QgAAwAYokXZCAACAbHqRdkIAAEDSzJF2QgAAADgfknZCAADAnXGSdkIAAIADxJJ2QgAAQGkWk3ZCAAAAz2iTdkIAAMA0u5N2QgAAgJoNlHZCAABAAGCUdkIAAABmspR2QgAAwMsElXZCAACAMVeVdkIAAECXqZV2QgAAAP37lXZCAADAYk6WdkIAAIDIoJZ2QgAAQC7zlnZCAAAAlEWXdkIAAMD5l5d2QgAAgF/ql3ZCAABAxTyYdkIAAAArj5h2QgAAwJDhmHZCAACA9jOZdkIAAEBchpl2QgAAAMLYmXZCAADAJyuadkIAAICNfZp2QgAAQPPPmnZCAAAAWSKbdkIAAMC+dJt2QgAAgCTHm3ZCAABAihmcdkIAAADwa5x2QgAAwFW+nHZCAACAuxCddkIAAEAhY512QgAAAIe1nXZCAADA7AeedkIAAIBSWp52QgAAQLisnnZCAAAAHv+edkIAAMCDUZ92QgAAgOmjn3ZCAABAT/afdkIAAAC1SKB2QgAAwBqboHZCAACAgO2gdkIAAEDmP6F2QgAAAEySoXZCAADAseShdkIAAIAXN6J2QgAAQH2JonZCAAAA49uidkIAAMBILqN2QgAAgK6Ao3ZCAABAFNOjdkIAAAB6JaR2QgAAwN93pHZCAACARcqkdkIAAECrHKV2QgAAABFvpXZCAADAdsGldkIAAIDcE6Z2QgAAQEJmpnZCAAAAqLimdkIAAMANC6d2QgAAgHNdp3ZCAABA2a+ndkIAAAA/Aqh2QgAAwKRUqHZCAACACqeodkIAAEBw+ah2QgAAANZLqXZCAADAO56pdkIAAICh8Kl2QgAAQAdDqnZCAAAAbZWqdkIAAMDS56p2QgAAgDg6q3ZCAABAnoyrdkIAAAAE36t2QgAAwGkxrHZCAACAz4OsdkIAAEA11qx2QgAAAJsorXZCAADAAHutdkIAAIBmza12QgAAQMwfrnZCAAAAMnKudkIAAMCXxK52QgAAgP0Wr3ZCAABAY2mvdkIAAADJu692QgAAwC4OsHZCAACAlGCwdkIAAED6srB2QgAAAGAFsXZCAADAxVexdkIAAIArqrF2QgAAQJH8sXZCAAAA906ydkIAAMBcobJ2QgAAgMLzsnZCAABAKEazdkIAAACOmLN2QgAAwPPqs3ZCAACAWT20dkIAAEC/j7R2QgAAACXitHZCAADAijS1dkIAAIDwhrV2QgAAQFbZtXZCAAAAvCu2dkIAAMAhfrZ2QgAAgIfQtnZCAABA7SK3dkIAAABTdbd2QgAAwLjHt3ZCAACAHhq4dkIAAECEbLh2QgAAAOq+uHZCAADATxG5dkIAAIC1Y7l2QgAAQBu2uXZCAAAAgQi6dkIAAMDmWrp2QgAAgEytunZCAABAsv+6dkIAAAAYUrt2QgAAwH2ku3ZCAACA4/a7dkIAAEBJSbx2QgAAAK+bvHZCAADAFO68dkIAAIB6QL12QgAAQOCSvXZCAAAARuW9dkIAAMCrN752QgAAgBGKvnZCAABAd9y+dkIAAADdLr92QgAAwEKBv3ZCAACAqNO/dkIAAEAOJsB2QgAAAHR4wHZCAADA2crAdkIAAIA/HcF2QgAAQKVvwXZCAAAAC8LBdkIAAMBwFMJ2QgAAgNZmwnZCAABAPLnCdkIAAACiC8N2QgAAwAdew3ZCAACAbbDDdkI=\",\"dtype\":\"float64\",\"order\":\"little\",\"shape\":[160]},\"value\":{\"__ndarray__\":\"pEViRTe/Y0X3FmZFHMpoRb6ja0VxvW5FQChxRX2fckXTFHNFbM5yRWy6cUXVknBFTHdvRd6TbkUAnm1FusBsRbvebEXTCm1FrGltRT7/bUXYxm5F44RvRWUicEXYnXBFfftwRXsFcUWXVHFFCOdxRYmrckVPeXNFRX90Ra2NdUV0Y3ZFIgN3RRdgd0VMT3dFxdh2RT6HdkXYaHZFUZt2RUgtd0UaJXhFiU95RR8tfEWtnYBF3fyDRVvYh0UcyYtFzriPRZ90k0UjwZZFlo+ZRWV6m0UXLJxFa2mcRbd0nEUzJ5xFEOCbRQa0m0V60JtFG0ycRQnznEVM351FTcqeRXTen0Ub86BF1rShRYHhoUWeraFFyz6hRRS1oEVZQ6BFyROgReo8oEWbCaFF962iRV/wpEXUKqdFjUapRd5Rq0XDgq1F2PGvRZ2ks0U6SLhFTGO+RUXxxUU6hs5Fhs7WRW4o3UW97OBFZpDjRRNv5UWBpOZFhk/nRYJ550Wk2edF7pLoRb2h6kWV5u1F3qHxRYAj9UWO9fdFagf6RYNm+0VaSfxFqRf8RQxJ+kVwR/dFiOPzRUPY8EVvXO5FQSrsRXGQ6kWlp+lFU6npRVu36kVr7+xF8hnwRdkZ9EVj9PhFWej9RctRAUYQggNGMgYGRv0VCUbkogxGcnIQRsy9FEbgDxpGfIoeRj2WIkYhnSVGJrUmRogFJkZcVSRG8RcjRvMAIkb9DyFGPJogRuabIEaipiFGDMgjRroWJkbSeydGNjwoRlFBKEaRvyZGvn4kRgDpIEZkvhxGZlsZRlYWF0b9FhZGG/cVRgY1FkbKOBZG/LgVRpjNFEZJqRNGshASRg==\",\"dtype\":\"float32\",\"order\":\"little\",\"shape\":[160]}},\"selected\":{\"id\":\"2305\"},\"selection_policy\":{\"id\":\"2321\"}},\"id\":\"2304\",\"type\":\"ColumnDataSource\"},{\"attributes\":{\"days\":[1,8,15,22]},\"id\":\"2295\",\"type\":\"DaysTicker\"},{\"attributes\":{\"months\":[0,2,4,6,8,10]},\"id\":\"2298\",\"type\":\"MonthsTicker\"},{\"attributes\":{\"axis_label\":\"\",\"bounds\":\"auto\",\"formatter\":{\"id\":\"2270\"},\"major_label_orientation\":\"horizontal\",\"ticker\":{\"id\":\"2250\"}},\"id\":\"2249\",\"type\":\"DatetimeAxis\"},{\"attributes\":{\"data\":{\"Variable\":[\"Real\",\"Real\",\"Real\",\"Real\",\"Real\",\"Real\",\"Real\",\"Real\",\"Real\",\"Real\",\"Real\",\"Real\",\"Real\",\"Real\",\"Real\",\"Real\",\"Real\",\"Real\",\"Real\",\"Real\",\"Real\",\"Real\",\"Real\",\"Real\",\"Real\",\"Real\",\"Real\",\"Real\",\"Real\",\"Real\",\"Real\",\"Real\",\"Real\",\"Real\",\"Real\",\"Real\",\"Real\",\"Real\",\"Real\",\"Real\",\"Real\",\"Real\",\"Real\",\"Real\",\"Real\",\"Real\",\"Real\",\"Real\",\"Real\",\"Real\",\"Real\",\"Real\",\"Real\",\"Real\",\"Real\",\"Real\",\"Real\",\"Real\",\"Real\",\"Real\",\"Real\",\"Real\",\"Real\",\"Real\",\"Real\",\"Real\",\"Real\",\"Real\",\"Real\",\"Real\",\"Real\",\"Real\",\"Real\",\"Real\",\"Real\",\"Real\",\"Real\",\"Real\",\"Real\",\"Real\",\"Real\",\"Real\",\"Real\",\"Real\",\"Real\",\"Real\",\"Real\",\"Real\",\"Real\",\"Real\",\"Real\",\"Real\",\"Real\",\"Real\",\"Real\",\"Real\",\"Real\",\"Real\",\"Real\",\"Real\",\"Real\",\"Real\",\"Real\",\"Real\",\"Real\",\"Real\",\"Real\",\"Real\",\"Real\",\"Real\",\"Real\",\"Real\",\"Real\",\"Real\",\"Real\",\"Real\",\"Real\",\"Real\",\"Real\",\"Real\",\"Real\",\"Real\",\"Real\",\"Real\",\"Real\",\"Real\",\"Real\",\"Real\",\"Real\",\"Real\",\"Real\",\"Real\",\"Real\",\"Real\",\"Real\",\"Real\",\"Real\",\"Real\",\"Real\",\"Real\",\"Real\",\"Real\",\"Real\",\"Real\",\"Real\",\"Real\",\"Real\",\"Real\",\"Real\",\"Real\",\"Real\",\"Real\",\"Real\",\"Real\",\"Real\",\"Real\",\"Real\",\"Real\",\"Real\",\"Real\"],\"index\":{\"__ndarray__\":\"AABAO4OQdkIAAACh1ZB2QgAAwAYokXZCAACAbHqRdkIAAEDSzJF2QgAAADgfknZCAADAnXGSdkIAAIADxJJ2QgAAQGkWk3ZCAAAAz2iTdkIAAMA0u5N2QgAAgJoNlHZCAABAAGCUdkIAAABmspR2QgAAwMsElXZCAACAMVeVdkIAAECXqZV2QgAAAP37lXZCAADAYk6WdkIAAIDIoJZ2QgAAQC7zlnZCAAAAlEWXdkIAAMD5l5d2QgAAgF/ql3ZCAABAxTyYdkIAAAArj5h2QgAAwJDhmHZCAACA9jOZdkIAAEBchpl2QgAAAMLYmXZCAADAJyuadkIAAICNfZp2QgAAQPPPmnZCAAAAWSKbdkIAAMC+dJt2QgAAgCTHm3ZCAABAihmcdkIAAADwa5x2QgAAwFW+nHZCAACAuxCddkIAAEAhY512QgAAAIe1nXZCAADA7AeedkIAAIBSWp52QgAAQLisnnZCAAAAHv+edkIAAMCDUZ92QgAAgOmjn3ZCAABAT/afdkIAAAC1SKB2QgAAwBqboHZCAACAgO2gdkIAAEDmP6F2QgAAAEySoXZCAADAseShdkIAAIAXN6J2QgAAQH2JonZCAAAA49uidkIAAMBILqN2QgAAgK6Ao3ZCAABAFNOjdkIAAAB6JaR2QgAAwN93pHZCAACARcqkdkIAAECrHKV2QgAAABFvpXZCAADAdsGldkIAAIDcE6Z2QgAAQEJmpnZCAAAAqLimdkIAAMANC6d2QgAAgHNdp3ZCAABA2a+ndkIAAAA/Aqh2QgAAwKRUqHZCAACACqeodkIAAEBw+ah2QgAAANZLqXZCAADAO56pdkIAAICh8Kl2QgAAQAdDqnZCAAAAbZWqdkIAAMDS56p2QgAAgDg6q3ZCAABAnoyrdkIAAAAE36t2QgAAwGkxrHZCAACAz4OsdkIAAEA11qx2QgAAAJsorXZCAADAAHutdkIAAIBmza12QgAAQMwfrnZCAAAAMnKudkIAAMCXxK52QgAAgP0Wr3ZCAABAY2mvdkIAAADJu692QgAAwC4OsHZCAACAlGCwdkIAAED6srB2QgAAAGAFsXZCAADAxVexdkIAAIArqrF2QgAAQJH8sXZCAAAA906ydkIAAMBcobJ2QgAAgMLzsnZCAABAKEazdkIAAACOmLN2QgAAwPPqs3ZCAACAWT20dkIAAEC/j7R2QgAAACXitHZCAADAijS1dkIAAIDwhrV2QgAAQFbZtXZCAAAAvCu2dkIAAMAhfrZ2QgAAgIfQtnZCAABA7SK3dkIAAABTdbd2QgAAwLjHt3ZCAACAHhq4dkIAAECEbLh2QgAAAOq+uHZCAADATxG5dkIAAIC1Y7l2QgAAQBu2uXZCAAAAgQi6dkIAAMDmWrp2QgAAgEytunZCAABAsv+6dkIAAAAYUrt2QgAAwH2ku3ZCAACA4/a7dkIAAEBJSbx2QgAAAK+bvHZCAADAFO68dkIAAIB6QL12QgAAQOCSvXZCAAAARuW9dkIAAMCrN752QgAAgBGKvnZCAABAd9y+dkIAAADdLr92QgAAwEKBv3ZCAACAqNO/dkIAAEAOJsB2QgAAAHR4wHZCAADA2crAdkIAAIA/HcF2QgAAQKVvwXZCAAAAC8LBdkIAAMBwFMJ2QgAAgNZmwnZCAABAPLnCdkIAAACiC8N2QgAAwAdew3ZCAACAbbDDdkI=\",\"dtype\":\"float64\",\"order\":\"little\",\"shape\":[160]},\"value\":{\"__ndarray__\":\"ZmZmZmaorkA0MzMzMwyvQAAAAAAAwq5AAAAAAAAfr0CamZmZGTWwQDMzMzMzd61AAAAAAAALrkDNzMzMzNOtQGdmZmZm7a1AzczMzMzerUAAAAAAAO+tQM3MzMzMBa5AmpmZmZnIrUCamZmZmSatQGZmZmZmRK5AAAAAAABGrkAzMzMzM1WuQAAAAAAAOK5AZ2ZmZmbXrkCamZmZmbOuQM3MzMzMRa5AMzMzMzNhrkDNzMzMzEyuQM3MzMzMUq5AMzMzMzOurkAAAAAAAHavQAAAAAAAPK9AzczMzMwpr0AzMzMzM3CvQJqZmZmZsa9AzczMzMw5r0CamZmZmUGvQGZmZmZmTq9AMzMzMzM0r0AzMzMzM6muQGZmZmZmzK5AAAAAAACcr0DNzMzMzIivQGZmZmZmD7BAmpmZmRkWsEAzMzMzsxCwQM3MzMxMN7BAZmZmZuYqs0CamZmZmXCzQGZmZmZmMbNAMzMzMzO3s0AzMzMzM8GzQDMzMzMzUbRAmpmZmRmutEDNzMzMTFG0QJqZmZmZxrRAmpmZmZm4s0AAAAAAgNmzQDMzMzOz2LNAmZmZmZkttEDMzMzMTK2zQM3MzMzMXLRAzczMzEx0tEDNzMzMzKm0QAEAAACAr7RAMzMzMzPOtEAzMzMzs7m0QDMzMzOzErVAmpmZmRmjtUCamZmZmU61QDIzMzOzKrRAmpmZmRlytEAAAAAAgG20QAAAAACAmLRAAAAAAAB2tECamZmZmea0QAAAAACADbVAMzMzM7N8tUBmZmZmZnm2QJqZmZkZ0LZAmpmZmRmitkAzMzMzM3S2QJqZmZmZu7ZAMzMzM7Nut0AAAAAAABy4QM7MzMxM1rhAZmZmZmYXvECamZmZmUG7QGVmZmZmfr5AmpmZmRksv0DNzMzMzPe/QJuZmZkZwr5AAAAAAADMvECamZmZGWK8QM3MzMyMAMBAzczMzEw+v0BmZmZm5gu/QGZmZmbmyr1AAAAAAIDEvkBmZmZmZjy/QJqZmZkZe79AmpmZmRkLwUCamZmZmSjBQGZmZmZmB8FAzczMzEzswECamZmZGSrAQJqZmZlZs8BAMzMzM/O1wEAzMzMz8xDBQAAAAACAsr9AAAAAAID9vUDNzMzMTG++QGZmZmZmf75AmpmZmZlCv0DNzMzMzP2+QGVmZmZm271AAAAAAABVv0DNzMzMTO2+QJqZmZkZ7r9AzczMzMwVwEAAAAAAAPvAQM3MzMzMSsFAmpmZmZmJwUAAAAAAADzCQJqZmZnZvMFAAAAAAEAgwkBmZmZmZqDCQDMzMzNz9cNAAAAAAMDgxEAAAAAAADTFQJqZmZnZjcVAZmZmZibuxkBlZmZmpjjJQM3MzMwMycVAzczMzIwhyEDNzMzMDDbHQAEAAACACMVAMzMzM/OvxEDNzMzMDC7FQM3MzMzMZsdAAAAAAEDKxUCamZmZmXjFQDMzMzNz+MVAZmZmZiZpxkCamZmZGQTIQAAAAACAi8hAzczMzIyhx0DNzMzMjCfGQDMzMzOzCsdAAQAAAAAyxkA0MzMzM+7DQGZmZmYmMcVAMzMzM7NnwkCamZmZGfDCQGZmZmYmx8RAMzMzM3OSxEAzMzMzswPFQJqZmZlZrcRAMzMzM/MqxECZmZmZGT/DQM3MzMwMFsNAMzMzMzNNw0AAAAAAwDvDQGZmZmYmg8JAZmZmZuadwkA=\",\"dtype\":\"float64\",\"order\":\"little\",\"shape\":[160]}},\"selected\":{\"id\":\"2275\"},\"selection_policy\":{\"id\":\"2289\"}},\"id\":\"2274\",\"type\":\"ColumnDataSource\"},{\"attributes\":{\"axis\":{\"id\":\"2249\"},\"grid_line_color\":null,\"ticker\":null},\"id\":\"2252\",\"type\":\"Grid\"},{\"attributes\":{\"source\":{\"id\":\"2274\"}},\"id\":\"2281\",\"type\":\"CDSView\"},{\"attributes\":{},\"id\":\"2301\",\"type\":\"YearsTicker\"},{\"attributes\":{\"click_policy\":\"mute\",\"items\":[{\"id\":\"2303\"},{\"id\":\"2334\"}],\"location\":[0,0],\"title\":\"Variable\"},\"id\":\"2302\",\"type\":\"Legend\"},{\"attributes\":{\"callback\":null,\"formatters\":{\"@{index}\":\"datetime\"},\"renderers\":[{\"id\":\"2280\"},{\"id\":\"2310\"}],\"tags\":[\"hv_created\"],\"tooltips\":[[\"Variable\",\"@{Variable}\"],[\"index\",\"@{index}{%F %T}\"],[\"value\",\"@{value}\"]]},\"id\":\"2238\",\"type\":\"HoverTool\"},{\"attributes\":{\"line_color\":\"#1f77b3\",\"line_width\":2,\"x\":{\"field\":\"index\"},\"y\":{\"field\":\"value\"}},\"id\":\"2277\",\"type\":\"Line\"},{\"attributes\":{\"base\":24,\"mantissas\":[1,2,4,6,8,12],\"max_interval\":43200000.0,\"min_interval\":3600000.0,\"num_minor_ticks\":0},\"id\":\"2292\",\"type\":\"AdaptiveTicker\"},{\"attributes\":{\"line_alpha\":0.2,\"line_color\":\"#1f77b3\",\"line_width\":2,\"x\":{\"field\":\"index\"},\"y\":{\"field\":\"value\"}},\"id\":\"2279\",\"type\":\"Line\"},{\"attributes\":{\"active_drag\":\"auto\",\"active_inspect\":\"auto\",\"active_multi\":null,\"active_scroll\":\"auto\",\"active_tap\":\"auto\",\"tools\":[{\"id\":\"2238\"},{\"id\":\"2257\"},{\"id\":\"2258\"},{\"id\":\"2259\"},{\"id\":\"2260\"},{\"id\":\"2261\"}]},\"id\":\"2263\",\"type\":\"Toolbar\"},{\"attributes\":{\"data_source\":{\"id\":\"2304\"},\"glyph\":{\"id\":\"2307\"},\"hover_glyph\":null,\"muted_glyph\":{\"id\":\"2309\"},\"nonselection_glyph\":{\"id\":\"2308\"},\"selection_glyph\":null,\"view\":{\"id\":\"2311\"}},\"id\":\"2310\",\"type\":\"GlyphRenderer\"},{\"attributes\":{\"text\":\"Real vs predicted price of Bitcoin\",\"text_color\":{\"value\":\"black\"},\"text_font_size\":{\"value\":\"12pt\"}},\"id\":\"2241\",\"type\":\"Title\"},{\"attributes\":{\"axis_label\":\"\",\"bounds\":\"auto\",\"formatter\":{\"id\":\"2272\"},\"major_label_orientation\":\"horizontal\",\"ticker\":{\"id\":\"2254\"}},\"id\":\"2253\",\"type\":\"LinearAxis\"},{\"attributes\":{\"line_alpha\":0.1,\"line_color\":\"#1f77b3\",\"line_width\":2,\"x\":{\"field\":\"index\"},\"y\":{\"field\":\"value\"}},\"id\":\"2278\",\"type\":\"Line\"},{\"attributes\":{\"months\":[0,6]},\"id\":\"2300\",\"type\":\"MonthsTicker\"},{\"attributes\":{\"line_alpha\":0.2,\"line_color\":\"#ff7e0e\",\"line_width\":2,\"x\":{\"field\":\"index\"},\"y\":{\"field\":\"value\"}},\"id\":\"2309\",\"type\":\"Line\"},{\"attributes\":{},\"id\":\"2305\",\"type\":\"Selection\"},{\"attributes\":{},\"id\":\"2247\",\"type\":\"LinearScale\"},{\"attributes\":{\"bottom_units\":\"screen\",\"fill_alpha\":0.5,\"fill_color\":\"lightgrey\",\"left_units\":\"screen\",\"level\":\"overlay\",\"line_alpha\":1.0,\"line_color\":\"black\",\"line_dash\":[4,4],\"line_width\":2,\"right_units\":\"screen\",\"top_units\":\"screen\"},\"id\":\"2262\",\"type\":\"BoxAnnotation\"},{\"attributes\":{\"months\":[0,1,2,3,4,5,6,7,8,9,10,11]},\"id\":\"2297\",\"type\":\"MonthsTicker\"},{\"attributes\":{\"margin\":[5,5,5,5],\"name\":\"HSpacer02883\",\"sizing_mode\":\"stretch_width\"},\"id\":\"2533\",\"type\":\"Spacer\"},{\"attributes\":{\"end\":13842.594746093748,\"reset_end\":13842.594746093748,\"reset_start\":2691.05779296875,\"start\":2691.05779296875,\"tags\":[[[\"value\",\"value\",null]]]},\"id\":\"2237\",\"type\":\"Range1d\"},{\"attributes\":{\"num_minor_ticks\":5,\"tickers\":[{\"id\":\"2290\"},{\"id\":\"2291\"},{\"id\":\"2292\"},{\"id\":\"2293\"},{\"id\":\"2294\"},{\"id\":\"2295\"},{\"id\":\"2296\"},{\"id\":\"2297\"},{\"id\":\"2298\"},{\"id\":\"2299\"},{\"id\":\"2300\"},{\"id\":\"2301\"}]},\"id\":\"2250\",\"type\":\"DatetimeTicker\"},{\"attributes\":{\"days\":[1,4,7,10,13,16,19,22,25,28]},\"id\":\"2294\",\"type\":\"DaysTicker\"},{\"attributes\":{},\"id\":\"2261\",\"type\":\"ResetTool\"},{\"attributes\":{},\"id\":\"2245\",\"type\":\"LinearScale\"},{\"attributes\":{\"children\":[{\"id\":\"2235\"},{\"id\":\"2240\"},{\"id\":\"2533\"}],\"margin\":[0,0,0,0],\"name\":\"Row02878\",\"tags\":[\"embedded\"]},\"id\":\"2234\",\"type\":\"Row\"},{\"attributes\":{\"label\":{\"value\":\"Predicted\"},\"renderers\":[{\"id\":\"2310\"}]},\"id\":\"2334\",\"type\":\"LegendItem\"}],\"root_ids\":[\"2234\"]},\"title\":\"Bokeh Application\",\"version\":\"2.1.1\"}};\n",
       "  var render_items = [{\"docid\":\"d48e901f-b315-4ef0-861c-bcea7a2f1735\",\"root_ids\":[\"2234\"],\"roots\":{\"2234\":\"b029bdb4-c677-4ec1-b2cc-5607e900da90\"}}];\n",
       "  root.Bokeh.embed.embed_items_notebook(docs_json, render_items);\n",
       "  }\n",
       "if (root.Bokeh !== undefined) {\n",
       "    embed_document(root);\n",
       "  } else {\n",
       "    var attempts = 0;\n",
       "    var timer = setInterval(function(root) {\n",
       "      if (root.Bokeh !== undefined) {\n",
       "        clearInterval(timer);\n",
       "        embed_document(root);\n",
       "      } else if (document.readyState == \"complete\") {\n",
       "        attempts++;\n",
       "        if (attempts > 100) {\n",
       "          clearInterval(timer);\n",
       "          console.log(\"Bokeh: ERROR: Unable to run BokehJS code because BokehJS library is missing\");\n",
       "        }\n",
       "      }\n",
       "    }, 10, root)\n",
       "  }\n",
       "})(window);</script>"
      ],
      "text/plain": [
       ":NdOverlay   [Variable]\n",
       "   :Curve   [index]   (value)"
      ]
     },
     "execution_count": 54,
     "metadata": {
      "application/vnd.holoviews_exec.v0+json": {
       "id": "2234"
      }
     },
     "output_type": "execute_result"
    }
   ],
   "source": [
    "# Plot the real vs predicted values as a line chart\n",
    "real_predicted.hvplot(title= 'Real vs predicted price of Bitcoin')"
   ]
  }
 ],
 "metadata": {
  "file_extension": ".py",
  "kernelspec": {
   "display_name": "Python [conda env:.conda-pyvizenv] *",
   "language": "python",
   "name": "conda-env-.conda-pyvizenv-py"
  },
  "language_info": {
   "codemirror_mode": {
    "name": "ipython",
    "version": 3
   },
   "file_extension": ".py",
   "mimetype": "text/x-python",
   "name": "python",
   "nbconvert_exporter": "python",
   "pygments_lexer": "ipython3",
   "version": "3.7.7"
  },
  "mimetype": "text/x-python",
  "name": "python",
  "npconvert_exporter": "python",
  "pygments_lexer": "ipython3",
  "version": 3
 },
 "nbformat": 4,
 "nbformat_minor": 4
}
